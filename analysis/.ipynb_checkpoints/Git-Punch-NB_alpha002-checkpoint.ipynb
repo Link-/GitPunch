{
 "cells": [
  {
   "cell_type": "markdown",
   "metadata": {},
   "source": [
    "# Git-Punch Notebook\n",
    "### Brief\n",
    "\n",
    "Punchcard Diagram (similar to Github's Punchcard) showing all the commits for a git repository done across the days of the week (y-axis) and time of day (x-axis).\n",
    "\n",
    "__Usage:__\n",
    "\n",
    "1. Run `git-punch.py` to gather the data from a valid git repository's directory\n",
    "2. Change the variable `data_location` below to point the `data.json` file\n",
    "3. Click Cell -> Run All"
   ]
  },
  {
   "cell_type": "code",
   "execution_count": 1,
   "metadata": {
    "collapsed": false
   },
   "outputs": [],
   "source": [
    "import numpy as np\n",
    "import pandas as pd\n",
    "import matplotlib.pyplot as plt\n",
    "from pandas.io.json import json_normalize\n",
    "\n",
    "# Enable inline plotting\n",
    "%matplotlib inline"
   ]
  },
  {
   "cell_type": "code",
   "execution_count": 2,
   "metadata": {
    "collapsed": true
   },
   "outputs": [],
   "source": [
    "# Read the raw json file\n",
    "data_location = r'../tmp/data.json'\n",
    "# convert_axes is True by default\n",
    "# changed to False in order not to\n",
    "# convert the days to dates\n",
    "rdata = pd.read_json(data_location, convert_axes=True)"
   ]
  },
  {
   "cell_type": "code",
   "execution_count": 3,
   "metadata": {
    "collapsed": false
   },
   "outputs": [],
   "source": [
    "# Sort the index\n",
    "rdata.sort(axis=0, ascending=True, inplace=True)\n",
    "# Sort the columns\n",
    "rdata.sort(axis=1, ascending=True, inplace=True)"
   ]
  },
  {
   "cell_type": "code",
   "execution_count": 4,
   "metadata": {
    "collapsed": false
   },
   "outputs": [],
   "source": [
    "# Convert Timestamp to Weekday\n",
    "rdata.columns = rdata.columns.map(lambda x: x.strftime('%a'))"
   ]
  },
  {
   "cell_type": "code",
   "execution_count": 5,
   "metadata": {
    "collapsed": false
   },
   "outputs": [],
   "source": [
    "# This is to be excuted once and only once!\n",
    "# This will convert the index to column and vice versa\n",
    "rdata = rdata.transpose()"
   ]
  },
  {
   "cell_type": "code",
   "execution_count": 6,
   "metadata": {
    "collapsed": false
   },
   "outputs": [],
   "source": [
    "# The below code has been modified from its original form found below\n",
    "# http://stackoverflow.com/questions/14849815/matplotlib-how-to-remove-the-vertical-space-when-displaying-circles-on-a-grid\n",
    "# Original author: http://stackoverflow.com/users/2023144/rgiot\n",
    "\n",
    "# ax1 : Days of the week\n",
    "ax1 = range(7)\n",
    "# ax2 : Hours per day\n",
    "ax2 = range(24)\n",
    "# Ticks\n",
    "ax1_ticks = ['Sunday', 'Monday', 'Tuesday', 'Wednesday', 'Thursday', 'Friday', 'Saturday']\n",
    "ax2_ticks = range(24)\n",
    "\n",
    "# Convert the DataFrame to a 2D Array\n",
    "data = np.zeros((len(ax1),len(ax2)))\n",
    "for i in xrange(7):\n",
    "    for j in xrange(24):\n",
    "        data[i,j] = rdata.iloc[i, j]"
   ]
  },
  {
   "cell_type": "code",
   "execution_count": 7,
   "metadata": {
    "collapsed": false
   },
   "outputs": [
    {
     "data": {
      "image/png": "[encoded data removed]",
      "text/plain": [
       "<matplotlib.figure.Figure at 0x10652aa10>"
      ]
     },
     "metadata": {},
     "output_type": "display_data"
    }
   ],
   "source": [
    "data = data/float(np.max(data))\n",
    "\n",
    "# Shape Ratio\n",
    "r = float(data.shape[1])/data.shape[0]\n",
    "\n",
    "# Draw the Circles\n",
    "for y in xrange(data.shape[0]):\n",
    "    for x in xrange(data.shape[1]):\n",
    "        # Define the circle properties\n",
    "        circle = plt.Circle((x/float(data.shape[1])*data.shape[0]+0.39,y/r), \n",
    "                            data[y][x]/float(data.shape[1])*data.shape[0]/2,\n",
    "                            facecolor =(0,0,0))\n",
    "        # Draw the circle\n",
    "        plt.gca().add_artist(circle)\n",
    "\n",
    "# Define the plot properties\n",
    "plt.ylim(0-0.5, data.shape[0]-0.5)\n",
    "plt.yticks(np.arange(0,len(ax1)/r-.1,1/r), \n",
    "           ax1_ticks)\n",
    "\n",
    "plt.xlim(0, data.shape[0])\n",
    "plt.xticks(np.linspace(0, len(ax1), len(ax2)) + 8/float(data.shape[1]), \n",
    "           ax2_ticks)\n",
    "\n",
    "plt.tick_params(axis='both', which='major', labelsize=16)\n",
    "plt.tick_params(axis='both', which='minor', labelsize=14)\n",
    "\n",
    "# Invert axes\n",
    "plt.gca().invert_yaxis()\n",
    "# Enable the grid\n",
    "plt.grid(True)\n",
    "\n",
    "# Make sure the axes are equal, \n",
    "# and resize the canvas to fit the plot\n",
    "plt.axis('equal')\n",
    "plt.axis([0, 7.7, 8.5/r, -0.7])\n",
    "scale = 0.8\n",
    "plt.gcf().set_size_inches(data.shape[1]*scale,data.shape[0]*scale, forward=True)\n",
    "\n",
    "# Show the plot\n",
    "plt.show()"
   ]
  }
 ],
 "metadata": {
  "kernelspec": {
   "display_name": "Python 2",
   "language": "python",
   "name": "python2"
  },
  "language_info": {
   "codemirror_mode": {
    "name": "ipython",
    "version": 2
   },
   "file_extension": ".py",
   "mimetype": "text/x-python",
   "name": "python",
   "nbconvert_exporter": "python",
   "pygments_lexer": "ipython2",
   "version": "2.7.10"
  }
 },
 "nbformat": 4,
 "nbformat_minor": 0
}
